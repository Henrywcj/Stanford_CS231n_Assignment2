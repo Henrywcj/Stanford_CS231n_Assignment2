{
 "cells": [
  {
   "cell_type": "code",
   "execution_count": 14,
   "metadata": {},
   "outputs": [
    {
     "name": "stdout",
     "output_type": "stream",
     "text": [
      "Iter 0: loss 0.3135703504085541\n",
      "Iter 50: loss 0.18424053490161896\n",
      "Iter 100: loss 0.1387282758951187\n",
      "Iter 150: loss 0.11464368551969528\n",
      "Iter 200: loss 0.09817004948854446\n",
      "Iter 250: loss 0.08566341549158096\n",
      "Iter 300: loss 0.07588372379541397\n",
      "Iter 350: loss 0.06804811954498291\n",
      "Iter 400: loss 0.06176640838384628\n",
      "Iter 450: loss 0.05664728954434395\n",
      "Iter 500: loss 0.05246491730213165\n",
      "Iter 550: loss 0.04901475831866264\n",
      "Iter 600: loss 0.04612192139029503\n",
      "Iter 650: loss 0.0437115803360939\n",
      "Iter 700: loss 0.04167773574590683\n",
      "Iter 750: loss 0.03993501141667366\n",
      "Iter 800: loss 0.03844631835818291\n",
      "Iter 850: loss 0.03716278821229935\n",
      "Iter 900: loss 0.036034584045410156\n",
      "Iter 950: loss 0.03503980487585068\n"
     ]
    }
   ],
   "source": [
    "import numpy as np\n",
    "import tensorflow as tf\n",
    "\n",
    "def add_layer(inputs, input_size, output_size,n_layer, activation_function = None):\n",
    "    layer_name = 'layer_' + str(n_layer)\n",
    "    with tf.name_scope(layer_name):\n",
    "        with tf.name_scope(\"Weights\"):\n",
    "            Weight = tf.Variable(tf.random_normal([input_size, output_size]), name = 'W')\n",
    "        with tf.name_scope('Biases'):\n",
    "            biases = tf.Variable(tf.zeros([output_size]) + 0.1, name = 'b') \n",
    "        y_out = tf.matmul(inputs, Weight) + biases\n",
    "    \n",
    "        if activation_function == None:\n",
    "            return y_out\n",
    "        else:\n",
    "            return activation_function(y_out) \n",
    "        \n",
    "# Make up some real data\n",
    "x_data = np.linspace(-1, 1, 300)[:, np.newaxis]\n",
    "noise = np.random.normal(0, 0.05, x_data.shape)\n",
    "y_data = np.square(x_data) - 0.5 + noise\n",
    "\n",
    "with tf.name_scope('input'):\n",
    "    X = tf.placeholder(tf.float32, [300, 1])\n",
    "    y = tf.placeholder(tf.float32, [300, 1])\n",
    "\n",
    "h1 = add_layer(X, 1, 10, n_layer = 1, activation_function = tf.nn.relu)\n",
    "prediction = add_layer(h1, 10, 1, n_layer = 2, activation_function = None)\n",
    "\n",
    "with tf.name_scope('loss'):\n",
    "    loss = tf.losses.mean_squared_error(y, prediction)\n",
    "with tf.name_scope('train'):\n",
    "    train_step = tf.train.GradientDescentOptimizer(0.001).minimize(loss)\n",
    "\n",
    "with tf.Session() as sess:\n",
    "    writer = tf.summary.FileWriter(\"logs/\", sess.graph)\n",
    "    sess.run(tf.global_variables_initializer())\n",
    "    for i in range(1000):\n",
    "        sess.run(train_step, feed_dict = {X:x_data, y:y_data})\n",
    "        if i%50 == 0:\n",
    "            result = sess.run(loss, feed_dict = {X:x_data, y:y_data})\n",
    "            print (\"Iter {0}: loss {1}\".format(i, result))"
   ]
  },
  {
   "cell_type": "code",
   "execution_count": 2,
   "metadata": {
    "collapsed": true
   },
   "outputs": [],
   "source": [
    "\n"
   ]
  },
  {
   "cell_type": "code",
   "execution_count": 5,
   "metadata": {},
   "outputs": [
    {
     "data": {
      "text/plain": [
       "(300, 1)"
      ]
     },
     "execution_count": 5,
     "metadata": {},
     "output_type": "execute_result"
    }
   ],
   "source": [
    "y_data.shape"
   ]
  },
  {
   "cell_type": "code",
   "execution_count": null,
   "metadata": {
    "collapsed": true
   },
   "outputs": [],
   "source": []
  }
 ],
 "metadata": {
  "kernelspec": {
   "display_name": "Python 3",
   "language": "python",
   "name": "python3"
  },
  "language_info": {
   "codemirror_mode": {
    "name": "ipython",
    "version": 3
   },
   "file_extension": ".py",
   "mimetype": "text/x-python",
   "name": "python",
   "nbconvert_exporter": "python",
   "pygments_lexer": "ipython3",
   "version": "3.5.4"
  }
 },
 "nbformat": 4,
 "nbformat_minor": 2
}
